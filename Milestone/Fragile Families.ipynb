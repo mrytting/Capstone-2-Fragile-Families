{
 "cells": [
  {
   "cell_type": "code",
   "execution_count": 106,
   "metadata": {
    "collapsed": true
   },
   "outputs": [],
   "source": [
    "import pandas as pd\n",
    "import numpy as np\n",
    "import matplotlib.pyplot as plt\n",
    "import seaborn as sns\n",
    "% matplotlib inline\n",
    "plt.style.use('ggplot')\n",
    "\n"
   ]
  },
  {
   "cell_type": "code",
   "execution_count": 107,
   "metadata": {
    "collapsed": false
   },
   "outputs": [],
   "source": [
    "background = pd.read_csv('background.csv', low_memory = False) #load the different data sets\n",
    "train = pd.read_csv('train.csv')\n",
    "prediction = pd.read_csv('prediction.csv')"
   ]
  },
  {
   "cell_type": "code",
   "execution_count": 108,
   "metadata": {
    "collapsed": false
   },
   "outputs": [
    {
     "data": {
      "text/html": [
       "<div>\n",
       "<style>\n",
       "    .dataframe thead tr:only-child th {\n",
       "        text-align: right;\n",
       "    }\n",
       "\n",
       "    .dataframe thead th {\n",
       "        text-align: left;\n",
       "    }\n",
       "\n",
       "    .dataframe tbody tr th {\n",
       "        vertical-align: top;\n",
       "    }\n",
       "</style>\n",
       "<table border=\"1\" class=\"dataframe\">\n",
       "  <thead>\n",
       "    <tr style=\"text-align: right;\">\n",
       "      <th></th>\n",
       "      <th>challengeID</th>\n",
       "      <th>m1intmon</th>\n",
       "      <th>m1intyr</th>\n",
       "      <th>m1lenhr</th>\n",
       "      <th>m1lenmin</th>\n",
       "      <th>cm1twoc</th>\n",
       "      <th>cm1fint</th>\n",
       "      <th>cm1tdiff</th>\n",
       "      <th>cm1natsm</th>\n",
       "      <th>m1natwt</th>\n",
       "      <th>...</th>\n",
       "      <th>m4d9</th>\n",
       "      <th>m4e23</th>\n",
       "      <th>f4d6</th>\n",
       "      <th>f4d7</th>\n",
       "      <th>f4d9</th>\n",
       "      <th>m5c6</th>\n",
       "      <th>m5d20</th>\n",
       "      <th>m5k10</th>\n",
       "      <th>f5c6</th>\n",
       "      <th>k5f1</th>\n",
       "    </tr>\n",
       "  </thead>\n",
       "  <tbody>\n",
       "    <tr>\n",
       "      <th>0</th>\n",
       "      <td>1</td>\n",
       "      <td>-3</td>\n",
       "      <td>NaN</td>\n",
       "      <td>-3</td>\n",
       "      <td>40</td>\n",
       "      <td>NaN</td>\n",
       "      <td>0</td>\n",
       "      <td>NaN</td>\n",
       "      <td>NaN</td>\n",
       "      <td>NaN</td>\n",
       "      <td>...</td>\n",
       "      <td>-3.0</td>\n",
       "      <td>-3.000000</td>\n",
       "      <td>-3.000000</td>\n",
       "      <td>-3.000000</td>\n",
       "      <td>-3.0</td>\n",
       "      <td>-3.000000</td>\n",
       "      <td>-3.000000</td>\n",
       "      <td>-3</td>\n",
       "      <td>-3.000000</td>\n",
       "      <td>-3.000000</td>\n",
       "    </tr>\n",
       "    <tr>\n",
       "      <th>1</th>\n",
       "      <td>2</td>\n",
       "      <td>-3</td>\n",
       "      <td>NaN</td>\n",
       "      <td>0</td>\n",
       "      <td>40</td>\n",
       "      <td>NaN</td>\n",
       "      <td>1</td>\n",
       "      <td>NaN</td>\n",
       "      <td>NaN</td>\n",
       "      <td>NaN</td>\n",
       "      <td>...</td>\n",
       "      <td>-3.0</td>\n",
       "      <td>8.473318</td>\n",
       "      <td>-3.000000</td>\n",
       "      <td>-3.000000</td>\n",
       "      <td>-3.0</td>\n",
       "      <td>-3.000000</td>\n",
       "      <td>9.845074</td>\n",
       "      <td>-3</td>\n",
       "      <td>-3.000000</td>\n",
       "      <td>9.723551</td>\n",
       "    </tr>\n",
       "    <tr>\n",
       "      <th>2</th>\n",
       "      <td>3</td>\n",
       "      <td>-3</td>\n",
       "      <td>NaN</td>\n",
       "      <td>0</td>\n",
       "      <td>35</td>\n",
       "      <td>NaN</td>\n",
       "      <td>1</td>\n",
       "      <td>NaN</td>\n",
       "      <td>NaN</td>\n",
       "      <td>NaN</td>\n",
       "      <td>...</td>\n",
       "      <td>-3.0</td>\n",
       "      <td>-3.000000</td>\n",
       "      <td>9.097495</td>\n",
       "      <td>10.071504</td>\n",
       "      <td>-3.0</td>\n",
       "      <td>-3.000000</td>\n",
       "      <td>-3.000000</td>\n",
       "      <td>-3</td>\n",
       "      <td>-3.000000</td>\n",
       "      <td>-3.000000</td>\n",
       "    </tr>\n",
       "    <tr>\n",
       "      <th>3</th>\n",
       "      <td>4</td>\n",
       "      <td>-3</td>\n",
       "      <td>NaN</td>\n",
       "      <td>0</td>\n",
       "      <td>30</td>\n",
       "      <td>NaN</td>\n",
       "      <td>1</td>\n",
       "      <td>NaN</td>\n",
       "      <td>NaN</td>\n",
       "      <td>NaN</td>\n",
       "      <td>...</td>\n",
       "      <td>-3.0</td>\n",
       "      <td>-3.000000</td>\n",
       "      <td>9.512706</td>\n",
       "      <td>10.286578</td>\n",
       "      <td>-3.0</td>\n",
       "      <td>10.677285</td>\n",
       "      <td>-3.000000</td>\n",
       "      <td>-3</td>\n",
       "      <td>8.522331</td>\n",
       "      <td>10.608137</td>\n",
       "    </tr>\n",
       "    <tr>\n",
       "      <th>4</th>\n",
       "      <td>5</td>\n",
       "      <td>-3</td>\n",
       "      <td>NaN</td>\n",
       "      <td>0</td>\n",
       "      <td>25</td>\n",
       "      <td>NaN</td>\n",
       "      <td>1</td>\n",
       "      <td>NaN</td>\n",
       "      <td>NaN</td>\n",
       "      <td>NaN</td>\n",
       "      <td>...</td>\n",
       "      <td>-3.0</td>\n",
       "      <td>-3.000000</td>\n",
       "      <td>11.076016</td>\n",
       "      <td>9.615958</td>\n",
       "      <td>-3.0</td>\n",
       "      <td>9.731979</td>\n",
       "      <td>-3.000000</td>\n",
       "      <td>-3</td>\n",
       "      <td>10.115313</td>\n",
       "      <td>9.646466</td>\n",
       "    </tr>\n",
       "  </tbody>\n",
       "</table>\n",
       "<p>5 rows × 12943 columns</p>\n",
       "</div>"
      ],
      "text/plain": [
       "   challengeID  m1intmon  m1intyr  m1lenhr  m1lenmin  cm1twoc  cm1fint  \\\n",
       "0            1        -3      NaN       -3        40      NaN        0   \n",
       "1            2        -3      NaN        0        40      NaN        1   \n",
       "2            3        -3      NaN        0        35      NaN        1   \n",
       "3            4        -3      NaN        0        30      NaN        1   \n",
       "4            5        -3      NaN        0        25      NaN        1   \n",
       "\n",
       "   cm1tdiff  cm1natsm  m1natwt    ...      m4d9     m4e23       f4d6  \\\n",
       "0       NaN       NaN      NaN    ...      -3.0 -3.000000  -3.000000   \n",
       "1       NaN       NaN      NaN    ...      -3.0  8.473318  -3.000000   \n",
       "2       NaN       NaN      NaN    ...      -3.0 -3.000000   9.097495   \n",
       "3       NaN       NaN      NaN    ...      -3.0 -3.000000   9.512706   \n",
       "4       NaN       NaN      NaN    ...      -3.0 -3.000000  11.076016   \n",
       "\n",
       "        f4d7  f4d9       m5c6     m5d20  m5k10       f5c6       k5f1  \n",
       "0  -3.000000  -3.0  -3.000000 -3.000000     -3  -3.000000  -3.000000  \n",
       "1  -3.000000  -3.0  -3.000000  9.845074     -3  -3.000000   9.723551  \n",
       "2  10.071504  -3.0  -3.000000 -3.000000     -3  -3.000000  -3.000000  \n",
       "3  10.286578  -3.0  10.677285 -3.000000     -3   8.522331  10.608137  \n",
       "4   9.615958  -3.0   9.731979 -3.000000     -3  10.115313   9.646466  \n",
       "\n",
       "[5 rows x 12943 columns]"
      ]
     },
     "execution_count": 108,
     "metadata": {},
     "output_type": "execute_result"
    }
   ],
   "source": [
    "background.head()"
   ]
  },
  {
   "cell_type": "code",
   "execution_count": 109,
   "metadata": {
    "collapsed": false
   },
   "outputs": [
    {
     "data": {
      "text/html": [
       "<div>\n",
       "<style>\n",
       "    .dataframe thead tr:only-child th {\n",
       "        text-align: right;\n",
       "    }\n",
       "\n",
       "    .dataframe thead th {\n",
       "        text-align: left;\n",
       "    }\n",
       "\n",
       "    .dataframe tbody tr th {\n",
       "        vertical-align: top;\n",
       "    }\n",
       "</style>\n",
       "<table border=\"1\" class=\"dataframe\">\n",
       "  <thead>\n",
       "    <tr style=\"text-align: right;\">\n",
       "      <th></th>\n",
       "      <th>challengeID</th>\n",
       "      <th>gpa</th>\n",
       "      <th>grit</th>\n",
       "      <th>materialHardship</th>\n",
       "      <th>eviction</th>\n",
       "      <th>layoff</th>\n",
       "      <th>jobTraining</th>\n",
       "    </tr>\n",
       "  </thead>\n",
       "  <tbody>\n",
       "    <tr>\n",
       "      <th>0</th>\n",
       "      <td>1</td>\n",
       "      <td>NaN</td>\n",
       "      <td>NaN</td>\n",
       "      <td>NaN</td>\n",
       "      <td>NaN</td>\n",
       "      <td>NaN</td>\n",
       "      <td>NaN</td>\n",
       "    </tr>\n",
       "    <tr>\n",
       "      <th>1</th>\n",
       "      <td>3</td>\n",
       "      <td>NaN</td>\n",
       "      <td>NaN</td>\n",
       "      <td>NaN</td>\n",
       "      <td>NaN</td>\n",
       "      <td>NaN</td>\n",
       "      <td>NaN</td>\n",
       "    </tr>\n",
       "    <tr>\n",
       "      <th>2</th>\n",
       "      <td>6</td>\n",
       "      <td>NaN</td>\n",
       "      <td>3.50</td>\n",
       "      <td>0.090909</td>\n",
       "      <td>0.0</td>\n",
       "      <td>0.0</td>\n",
       "      <td>0.0</td>\n",
       "    </tr>\n",
       "    <tr>\n",
       "      <th>3</th>\n",
       "      <td>7</td>\n",
       "      <td>2.5</td>\n",
       "      <td>3.25</td>\n",
       "      <td>0.000000</td>\n",
       "      <td>0.0</td>\n",
       "      <td>0.0</td>\n",
       "      <td>0.0</td>\n",
       "    </tr>\n",
       "    <tr>\n",
       "      <th>4</th>\n",
       "      <td>8</td>\n",
       "      <td>NaN</td>\n",
       "      <td>NaN</td>\n",
       "      <td>NaN</td>\n",
       "      <td>NaN</td>\n",
       "      <td>NaN</td>\n",
       "      <td>NaN</td>\n",
       "    </tr>\n",
       "  </tbody>\n",
       "</table>\n",
       "</div>"
      ],
      "text/plain": [
       "   challengeID  gpa  grit  materialHardship  eviction  layoff  jobTraining\n",
       "0            1  NaN   NaN               NaN       NaN     NaN          NaN\n",
       "1            3  NaN   NaN               NaN       NaN     NaN          NaN\n",
       "2            6  NaN  3.50          0.090909       0.0     0.0          0.0\n",
       "3            7  2.5  3.25          0.000000       0.0     0.0          0.0\n",
       "4            8  NaN   NaN               NaN       NaN     NaN          NaN"
      ]
     },
     "execution_count": 109,
     "metadata": {},
     "output_type": "execute_result"
    }
   ],
   "source": [
    "train.head()"
   ]
  },
  {
   "cell_type": "code",
   "execution_count": 110,
   "metadata": {
    "collapsed": false
   },
   "outputs": [
    {
     "data": {
      "text/html": [
       "<div>\n",
       "<style>\n",
       "    .dataframe thead tr:only-child th {\n",
       "        text-align: right;\n",
       "    }\n",
       "\n",
       "    .dataframe thead th {\n",
       "        text-align: left;\n",
       "    }\n",
       "\n",
       "    .dataframe tbody tr th {\n",
       "        vertical-align: top;\n",
       "    }\n",
       "</style>\n",
       "<table border=\"1\" class=\"dataframe\">\n",
       "  <thead>\n",
       "    <tr style=\"text-align: right;\">\n",
       "      <th></th>\n",
       "      <th>challengeID</th>\n",
       "      <th>gpa</th>\n",
       "      <th>grit</th>\n",
       "      <th>materialHardship</th>\n",
       "      <th>eviction</th>\n",
       "      <th>layoff</th>\n",
       "      <th>jobTraining</th>\n",
       "    </tr>\n",
       "  </thead>\n",
       "  <tbody>\n",
       "    <tr>\n",
       "      <th>0</th>\n",
       "      <td>1</td>\n",
       "      <td>2.866738</td>\n",
       "      <td>3.427539</td>\n",
       "      <td>0.103745</td>\n",
       "      <td>0.05963</td>\n",
       "      <td>0.209084</td>\n",
       "      <td>0.234771</td>\n",
       "    </tr>\n",
       "    <tr>\n",
       "      <th>1</th>\n",
       "      <td>2</td>\n",
       "      <td>2.866738</td>\n",
       "      <td>3.427539</td>\n",
       "      <td>0.103745</td>\n",
       "      <td>0.05963</td>\n",
       "      <td>0.209084</td>\n",
       "      <td>0.234771</td>\n",
       "    </tr>\n",
       "    <tr>\n",
       "      <th>2</th>\n",
       "      <td>3</td>\n",
       "      <td>2.866738</td>\n",
       "      <td>3.427539</td>\n",
       "      <td>0.103745</td>\n",
       "      <td>0.05963</td>\n",
       "      <td>0.209084</td>\n",
       "      <td>0.234771</td>\n",
       "    </tr>\n",
       "    <tr>\n",
       "      <th>3</th>\n",
       "      <td>4</td>\n",
       "      <td>2.866738</td>\n",
       "      <td>3.427539</td>\n",
       "      <td>0.103745</td>\n",
       "      <td>0.05963</td>\n",
       "      <td>0.209084</td>\n",
       "      <td>0.234771</td>\n",
       "    </tr>\n",
       "    <tr>\n",
       "      <th>4</th>\n",
       "      <td>5</td>\n",
       "      <td>2.866738</td>\n",
       "      <td>3.427539</td>\n",
       "      <td>0.103745</td>\n",
       "      <td>0.05963</td>\n",
       "      <td>0.209084</td>\n",
       "      <td>0.234771</td>\n",
       "    </tr>\n",
       "  </tbody>\n",
       "</table>\n",
       "</div>"
      ],
      "text/plain": [
       "   challengeID       gpa      grit  materialHardship  eviction    layoff  \\\n",
       "0            1  2.866738  3.427539          0.103745   0.05963  0.209084   \n",
       "1            2  2.866738  3.427539          0.103745   0.05963  0.209084   \n",
       "2            3  2.866738  3.427539          0.103745   0.05963  0.209084   \n",
       "3            4  2.866738  3.427539          0.103745   0.05963  0.209084   \n",
       "4            5  2.866738  3.427539          0.103745   0.05963  0.209084   \n",
       "\n",
       "   jobTraining  \n",
       "0     0.234771  \n",
       "1     0.234771  \n",
       "2     0.234771  \n",
       "3     0.234771  \n",
       "4     0.234771  "
      ]
     },
     "execution_count": 110,
     "metadata": {},
     "output_type": "execute_result"
    }
   ],
   "source": [
    "prediction.head()"
   ]
  },
  {
   "cell_type": "code",
   "execution_count": 111,
   "metadata": {
    "collapsed": false
   },
   "outputs": [
    {
     "data": {
      "text/html": [
       "<div>\n",
       "<style>\n",
       "    .dataframe thead tr:only-child th {\n",
       "        text-align: right;\n",
       "    }\n",
       "\n",
       "    .dataframe thead th {\n",
       "        text-align: left;\n",
       "    }\n",
       "\n",
       "    .dataframe tbody tr th {\n",
       "        vertical-align: top;\n",
       "    }\n",
       "</style>\n",
       "<table border=\"1\" class=\"dataframe\">\n",
       "  <thead>\n",
       "    <tr style=\"text-align: right;\">\n",
       "      <th></th>\n",
       "      <th>challengeID</th>\n",
       "      <th>gpa</th>\n",
       "      <th>grit</th>\n",
       "      <th>materialHardship</th>\n",
       "      <th>eviction</th>\n",
       "      <th>layoff</th>\n",
       "      <th>jobTraining</th>\n",
       "    </tr>\n",
       "  </thead>\n",
       "  <tbody>\n",
       "    <tr>\n",
       "      <th>count</th>\n",
       "      <td>2121.000000</td>\n",
       "      <td>1165.000000</td>\n",
       "      <td>1418.000000</td>\n",
       "      <td>1459.000000</td>\n",
       "      <td>1459.000000</td>\n",
       "      <td>1277.000000</td>\n",
       "      <td>1461.000000</td>\n",
       "    </tr>\n",
       "    <tr>\n",
       "      <th>mean</th>\n",
       "      <td>2085.421971</td>\n",
       "      <td>2.866738</td>\n",
       "      <td>3.427539</td>\n",
       "      <td>0.103745</td>\n",
       "      <td>0.059630</td>\n",
       "      <td>0.209084</td>\n",
       "      <td>0.234771</td>\n",
       "    </tr>\n",
       "    <tr>\n",
       "      <th>std</th>\n",
       "      <td>1209.429502</td>\n",
       "      <td>0.665322</td>\n",
       "      <td>0.485130</td>\n",
       "      <td>0.155665</td>\n",
       "      <td>0.236881</td>\n",
       "      <td>0.406814</td>\n",
       "      <td>0.424001</td>\n",
       "    </tr>\n",
       "    <tr>\n",
       "      <th>min</th>\n",
       "      <td>1.000000</td>\n",
       "      <td>1.000000</td>\n",
       "      <td>1.250000</td>\n",
       "      <td>0.000000</td>\n",
       "      <td>0.000000</td>\n",
       "      <td>0.000000</td>\n",
       "      <td>0.000000</td>\n",
       "    </tr>\n",
       "    <tr>\n",
       "      <th>25%</th>\n",
       "      <td>1032.000000</td>\n",
       "      <td>2.500000</td>\n",
       "      <td>3.000000</td>\n",
       "      <td>0.000000</td>\n",
       "      <td>0.000000</td>\n",
       "      <td>0.000000</td>\n",
       "      <td>0.000000</td>\n",
       "    </tr>\n",
       "    <tr>\n",
       "      <th>50%</th>\n",
       "      <td>2110.000000</td>\n",
       "      <td>3.000000</td>\n",
       "      <td>3.500000</td>\n",
       "      <td>0.000000</td>\n",
       "      <td>0.000000</td>\n",
       "      <td>0.000000</td>\n",
       "      <td>0.000000</td>\n",
       "    </tr>\n",
       "    <tr>\n",
       "      <th>75%</th>\n",
       "      <td>3109.000000</td>\n",
       "      <td>3.250000</td>\n",
       "      <td>3.750000</td>\n",
       "      <td>0.181818</td>\n",
       "      <td>0.000000</td>\n",
       "      <td>0.000000</td>\n",
       "      <td>0.000000</td>\n",
       "    </tr>\n",
       "    <tr>\n",
       "      <th>max</th>\n",
       "      <td>4241.000000</td>\n",
       "      <td>4.000000</td>\n",
       "      <td>4.000000</td>\n",
       "      <td>0.818182</td>\n",
       "      <td>1.000000</td>\n",
       "      <td>1.000000</td>\n",
       "      <td>1.000000</td>\n",
       "    </tr>\n",
       "  </tbody>\n",
       "</table>\n",
       "</div>"
      ],
      "text/plain": [
       "       challengeID          gpa         grit  materialHardship     eviction  \\\n",
       "count  2121.000000  1165.000000  1418.000000       1459.000000  1459.000000   \n",
       "mean   2085.421971     2.866738     3.427539          0.103745     0.059630   \n",
       "std    1209.429502     0.665322     0.485130          0.155665     0.236881   \n",
       "min       1.000000     1.000000     1.250000          0.000000     0.000000   \n",
       "25%    1032.000000     2.500000     3.000000          0.000000     0.000000   \n",
       "50%    2110.000000     3.000000     3.500000          0.000000     0.000000   \n",
       "75%    3109.000000     3.250000     3.750000          0.181818     0.000000   \n",
       "max    4241.000000     4.000000     4.000000          0.818182     1.000000   \n",
       "\n",
       "            layoff  jobTraining  \n",
       "count  1277.000000  1461.000000  \n",
       "mean      0.209084     0.234771  \n",
       "std       0.406814     0.424001  \n",
       "min       0.000000     0.000000  \n",
       "25%       0.000000     0.000000  \n",
       "50%       0.000000     0.000000  \n",
       "75%       0.000000     0.000000  \n",
       "max       1.000000     1.000000  "
      ]
     },
     "execution_count": 111,
     "metadata": {},
     "output_type": "execute_result"
    }
   ],
   "source": [
    "train.describe()"
   ]
  },
  {
   "cell_type": "code",
   "execution_count": 112,
   "metadata": {
    "collapsed": false
   },
   "outputs": [
    {
     "name": "stdout",
     "output_type": "stream",
     "text": [
      "<class 'pandas.core.frame.DataFrame'>\n",
      "RangeIndex: 2121 entries, 0 to 2120\n",
      "Data columns (total 7 columns):\n",
      "challengeID         2121 non-null int64\n",
      "gpa                 1165 non-null float64\n",
      "grit                1418 non-null float64\n",
      "materialHardship    1459 non-null float64\n",
      "eviction            1459 non-null float64\n",
      "layoff              1277 non-null float64\n",
      "jobTraining         1461 non-null float64\n",
      "dtypes: float64(6), int64(1)\n",
      "memory usage: 116.1 KB\n"
     ]
    }
   ],
   "source": [
    "train.info()"
   ]
  },
  {
   "cell_type": "code",
   "execution_count": 113,
   "metadata": {
    "collapsed": false
   },
   "outputs": [
    {
     "name": "stdout",
     "output_type": "stream",
     "text": [
      "<class 'pandas.core.frame.DataFrame'>\n",
      "RangeIndex: 4242 entries, 0 to 4241\n",
      "Columns: 12943 entries, challengeID to k5f1\n",
      "dtypes: float64(3307), int64(9489), object(147)\n",
      "memory usage: 418.9+ MB\n"
     ]
    }
   ],
   "source": [
    "background.info()"
   ]
  },
  {
   "cell_type": "code",
   "execution_count": 114,
   "metadata": {
    "collapsed": false
   },
   "outputs": [
    {
     "name": "stdout",
     "output_type": "stream",
     "text": [
      "<class 'pandas.core.frame.DataFrame'>\n",
      "RangeIndex: 4242 entries, 0 to 4241\n",
      "Data columns (total 7 columns):\n",
      "challengeID         4242 non-null int64\n",
      "gpa                 4242 non-null float64\n",
      "grit                4242 non-null float64\n",
      "materialHardship    4242 non-null float64\n",
      "eviction            4242 non-null float64\n",
      "layoff              4242 non-null float64\n",
      "jobTraining         4242 non-null float64\n",
      "dtypes: float64(6), int64(1)\n",
      "memory usage: 232.1 KB\n"
     ]
    }
   ],
   "source": [
    "prediction.info()"
   ]
  },
  {
   "cell_type": "code",
   "execution_count": 115,
   "metadata": {
    "collapsed": false
   },
   "outputs": [],
   "source": [
    "columns = ['challengeID','cm1ethrace', 'cf1ethrace', 'cm1edu', 'cf1edu', 'cm5povco', 'cm1relf','cm1age']"
   ]
  },
  {
   "cell_type": "code",
   "execution_count": 116,
   "metadata": {
    "collapsed": false,
    "scrolled": true
   },
   "outputs": [
    {
     "name": "stdout",
     "output_type": "stream",
     "text": [
      "<class 'pandas.core.frame.DataFrame'>\n",
      "RangeIndex: 4242 entries, 0 to 4241\n",
      "Data columns (total 8 columns):\n",
      "challengeID    4242 non-null int64\n",
      "cm1ethrace     4242 non-null int64\n",
      "cf1ethrace     4242 non-null int64\n",
      "cm1edu         4242 non-null int64\n",
      "cf1edu         4242 non-null int64\n",
      "cm5povco       4242 non-null float64\n",
      "cm1relf        4242 non-null int64\n",
      "cm1age         4242 non-null int64\n",
      "dtypes: float64(1), int64(7)\n",
      "memory usage: 265.2 KB\n"
     ]
    }
   ],
   "source": [
    "short_df = background[columns] \n",
    "short_df.info()"
   ]
  },
  {
   "cell_type": "markdown",
   "metadata": {},
   "source": [
    "These columns were chosen both for lack of missing data and indications of being good predictors as shown in the EDA"
   ]
  },
  {
   "cell_type": "markdown",
   "metadata": {},
   "source": [
    "These variables are:\n",
    "\n",
    "'cm1ethrace': Race of the mother\n",
    "\n",
    "'cf1ethrace': Race of the father\n",
    "\n",
    "'cm1edu': Education level of the mother\n",
    "\n",
    "'cf1edu':  Education level of the father\n",
    "\n",
    "'cm5povco': A measure of poverty level of the mother\n",
    "\n",
    "'cm1relf': A measure of mother's relationship with father (married, cohabitating, unknown, etc)\n",
    "\n",
    "'cm1age': Mother's age when child was born\n"
   ]
  },
  {
   "cell_type": "code",
   "execution_count": 117,
   "metadata": {
    "collapsed": false
   },
   "outputs": [
    {
     "data": {
      "text/html": [
       "<div>\n",
       "<style>\n",
       "    .dataframe thead tr:only-child th {\n",
       "        text-align: right;\n",
       "    }\n",
       "\n",
       "    .dataframe thead th {\n",
       "        text-align: left;\n",
       "    }\n",
       "\n",
       "    .dataframe tbody tr th {\n",
       "        vertical-align: top;\n",
       "    }\n",
       "</style>\n",
       "<table border=\"1\" class=\"dataframe\">\n",
       "  <thead>\n",
       "    <tr style=\"text-align: right;\">\n",
       "      <th></th>\n",
       "      <th>challengeID</th>\n",
       "      <th>gpa</th>\n",
       "      <th>grit</th>\n",
       "      <th>materialHardship</th>\n",
       "      <th>eviction</th>\n",
       "      <th>layoff</th>\n",
       "      <th>jobTraining</th>\n",
       "      <th>cm1ethrace</th>\n",
       "      <th>cf1ethrace</th>\n",
       "      <th>cm1edu</th>\n",
       "      <th>cf1edu</th>\n",
       "      <th>cm5povco</th>\n",
       "      <th>cm1relf</th>\n",
       "      <th>cm1age</th>\n",
       "    </tr>\n",
       "  </thead>\n",
       "  <tbody>\n",
       "    <tr>\n",
       "      <th>0</th>\n",
       "      <td>1</td>\n",
       "      <td>NaN</td>\n",
       "      <td>NaN</td>\n",
       "      <td>NaN</td>\n",
       "      <td>NaN</td>\n",
       "      <td>NaN</td>\n",
       "      <td>NaN</td>\n",
       "      <td>1</td>\n",
       "      <td>1</td>\n",
       "      <td>4</td>\n",
       "      <td>3</td>\n",
       "      <td>-9.000000</td>\n",
       "      <td>1</td>\n",
       "      <td>27</td>\n",
       "    </tr>\n",
       "    <tr>\n",
       "      <th>1</th>\n",
       "      <td>3</td>\n",
       "      <td>NaN</td>\n",
       "      <td>NaN</td>\n",
       "      <td>NaN</td>\n",
       "      <td>NaN</td>\n",
       "      <td>NaN</td>\n",
       "      <td>NaN</td>\n",
       "      <td>3</td>\n",
       "      <td>3</td>\n",
       "      <td>1</td>\n",
       "      <td>3</td>\n",
       "      <td>-9.000000</td>\n",
       "      <td>1</td>\n",
       "      <td>23</td>\n",
       "    </tr>\n",
       "    <tr>\n",
       "      <th>2</th>\n",
       "      <td>6</td>\n",
       "      <td>NaN</td>\n",
       "      <td>3.50</td>\n",
       "      <td>0.090909</td>\n",
       "      <td>0.0</td>\n",
       "      <td>0.0</td>\n",
       "      <td>0.0</td>\n",
       "      <td>3</td>\n",
       "      <td>3</td>\n",
       "      <td>2</td>\n",
       "      <td>2</td>\n",
       "      <td>4.755653</td>\n",
       "      <td>2</td>\n",
       "      <td>18</td>\n",
       "    </tr>\n",
       "    <tr>\n",
       "      <th>3</th>\n",
       "      <td>7</td>\n",
       "      <td>2.5</td>\n",
       "      <td>3.25</td>\n",
       "      <td>0.000000</td>\n",
       "      <td>0.0</td>\n",
       "      <td>0.0</td>\n",
       "      <td>0.0</td>\n",
       "      <td>2</td>\n",
       "      <td>3</td>\n",
       "      <td>3</td>\n",
       "      <td>1</td>\n",
       "      <td>3.481916</td>\n",
       "      <td>2</td>\n",
       "      <td>23</td>\n",
       "    </tr>\n",
       "    <tr>\n",
       "      <th>4</th>\n",
       "      <td>8</td>\n",
       "      <td>NaN</td>\n",
       "      <td>NaN</td>\n",
       "      <td>NaN</td>\n",
       "      <td>NaN</td>\n",
       "      <td>NaN</td>\n",
       "      <td>NaN</td>\n",
       "      <td>2</td>\n",
       "      <td>2</td>\n",
       "      <td>1</td>\n",
       "      <td>1</td>\n",
       "      <td>-9.000000</td>\n",
       "      <td>3</td>\n",
       "      <td>21</td>\n",
       "    </tr>\n",
       "  </tbody>\n",
       "</table>\n",
       "</div>"
      ],
      "text/plain": [
       "   challengeID  gpa  grit  materialHardship  eviction  layoff  jobTraining  \\\n",
       "0            1  NaN   NaN               NaN       NaN     NaN          NaN   \n",
       "1            3  NaN   NaN               NaN       NaN     NaN          NaN   \n",
       "2            6  NaN  3.50          0.090909       0.0     0.0          0.0   \n",
       "3            7  2.5  3.25          0.000000       0.0     0.0          0.0   \n",
       "4            8  NaN   NaN               NaN       NaN     NaN          NaN   \n",
       "\n",
       "   cm1ethrace  cf1ethrace  cm1edu  cf1edu  cm5povco  cm1relf  cm1age  \n",
       "0           1           1       4       3 -9.000000        1      27  \n",
       "1           3           3       1       3 -9.000000        1      23  \n",
       "2           3           3       2       2  4.755653        2      18  \n",
       "3           2           3       3       1  3.481916        2      23  \n",
       "4           2           2       1       1 -9.000000        3      21  "
      ]
     },
     "execution_count": 117,
     "metadata": {},
     "output_type": "execute_result"
    }
   ],
   "source": [
    "joined_df =  train.join(short_df.set_index('challengeID'), on='challengeID') #only want the background information for those in the training set\n",
    "joined_df.head()"
   ]
  },
  {
   "cell_type": "markdown",
   "metadata": {
    "collapsed": true
   },
   "source": [
    "#### Selection of Variables and Splitting test sets"
   ]
  },
  {
   "cell_type": "code",
   "execution_count": 118,
   "metadata": {
    "collapsed": false
   },
   "outputs": [],
   "source": [
    "import sklearn\n",
    "from scipy import stats\n",
    "from sklearn.cross_validation import train_test_split\n",
    "from sklearn.metrics import confusion_matrix, classification_report\n",
    "from sklearn.linear_model import LogisticRegression\n",
    "from sklearn.model_selection import GridSearchCV\n",
    "from sklearn.preprocessing import StandardScaler\n",
    "\n",
    "from sklearn.ensemble import RandomForestClassifier\n",
    "from sklearn.ensemble import RandomForestRegressor\n",
    "from sklearn.calibration import CalibratedClassifierCV\n",
    "from sklearn.metrics import log_loss\n",
    "from sklearn.metrics import r2_score\n",
    "from sklearn.metrics import mean_squared_error\n",
    "\n",
    "from xgboost import XGBClassifier\n",
    "from sklearn.metrics import accuracy_score"
   ]
  },
  {
   "cell_type": "code",
   "execution_count": 119,
   "metadata": {
    "collapsed": true
   },
   "outputs": [],
   "source": [
    "# This function selects the variable of choice and prepares the dataframes and creates train/test sets\n",
    "def pred_prep(variable, df):\n",
    "    # variable is the predicted variable of interest - should be column found in df and be a string\n",
    "    # df is the dataframe of features and predictions (this is designed to have them all in the same dataframe)\n",
    "    y = df[variable] # variable we are interested in\n",
    "\n",
    "    y.dropna(how='any', inplace=True) # drop those with no reported outcome\n",
    "\n",
    "    # get the rows for which we can predict\n",
    "    y_indices = y.index.values.tolist()\n",
    "\n",
    "    columns = ['cm1ethrace', 'cf1ethrace', 'cm1edu', 'cf1edu', 'cm5povco', 'cm1relf','cm1age']\n",
    "\n",
    "    X = df[columns]\n",
    "\n",
    "    small_X = X.loc[y_indices]\n",
    "    \n",
    "    X_train, X_test, y_train, y_test = sklearn.cross_validation.train_test_split(\n",
    "    small_X, y, test_size=0.33, random_state = 5)\n",
    "    \n",
    "    return X_train, X_test, y_train, y_test, small_X, y\n"
   ]
  },
  {
   "cell_type": "markdown",
   "metadata": {},
   "source": [
    "## GPA Test"
   ]
  },
  {
   "cell_type": "code",
   "execution_count": 120,
   "metadata": {
    "collapsed": false
   },
   "outputs": [],
   "source": [
    "X_train, X_test, y_train, y_test, small_X, y = pred_prep('gpa', joined_df)"
   ]
  },
  {
   "cell_type": "code",
   "execution_count": 121,
   "metadata": {
    "collapsed": false
   },
   "outputs": [
    {
     "name": "stdout",
     "output_type": "stream",
     "text": [
      "RMSE:  0.465997564935\n",
      "R^2:  -0.103762461723\n"
     ]
    }
   ],
   "source": [
    "rf = RandomForestRegressor()\n",
    "rf.fit(X_train, y_train)\n",
    "predicted = rf.predict(X_test)\n",
    "print(\"RMSE: \", mean_squared_error(y_test, predicted))\n",
    "print(\"R^2: \", r2_score(y_test, predicted))"
   ]
  },
  {
   "cell_type": "code",
   "execution_count": 122,
   "metadata": {
    "collapsed": false
   },
   "outputs": [
    {
     "data": {
      "text/plain": [
       "-0.10376246172345827"
      ]
     },
     "execution_count": 122,
     "metadata": {},
     "output_type": "execute_result"
    }
   ],
   "source": [
    "rf.score(X_test, y_test)"
   ]
  },
  {
   "cell_type": "code",
   "execution_count": 127,
   "metadata": {
    "collapsed": false
   },
   "outputs": [
    {
     "data": {
      "text/plain": [
       "7"
      ]
     },
     "execution_count": 127,
     "metadata": {},
     "output_type": "execute_result"
    }
   ],
   "source": [
    "rf.n_features_"
   ]
  },
  {
   "cell_type": "code",
   "execution_count": 128,
   "metadata": {
    "collapsed": false
   },
   "outputs": [
    {
     "name": "stdout",
     "output_type": "stream",
     "text": [
      "Tuned Random Forest Parameters: {'n_estimators': 62}\n",
      "Best score is 0.018422094729646777\n"
     ]
    }
   ],
   "source": [
    "# Setup the hyperparameter grid\n",
    "n_est = np.linspace(45,75,31).astype(int)\n",
    "param_grid = {'n_estimators': n_est}\n",
    "# Instantiate a logistic regression classifier: logreg\n",
    "RF = RandomForestRegressor()\n",
    "\n",
    "# Instantiate the GridSearchCV object: logreg_cv\n",
    "RF_cv = GridSearchCV(RF, param_grid, cv=5)\n",
    "\n",
    "# Fit it to the data\n",
    "RF_cv.fit(small_X,y)\n",
    "\n",
    "# Print the tuned parameters and score\n",
    "print(\"Tuned Random Forest Parameters: {}\".format(RF_cv.best_params_)) \n",
    "print(\"Best score is {}\".format(RF_cv.best_score_))"
   ]
  },
  {
   "cell_type": "code",
   "execution_count": 125,
   "metadata": {
    "collapsed": false
   },
   "outputs": [
    {
     "name": "stdout",
     "output_type": "stream",
     "text": [
      "RMSE:  0.426930491681\n",
      "R^2:  -0.0112281392452\n"
     ]
    },
    {
     "data": {
      "text/plain": [
       "array([ 0.05180895,  0.05874316,  0.07996014,  0.10730116,  0.39375434,\n",
       "        0.08092396,  0.2275083 ])"
      ]
     },
     "execution_count": 125,
     "metadata": {},
     "output_type": "execute_result"
    }
   ],
   "source": [
    "rf = RandomForestRegressor(n_estimators = 49)\n",
    "rf.fit(X_train, y_train)\n",
    "predicted = rf.predict(X_test)\n",
    "print(\"RMSE: \", mean_squared_error(y_test, predicted))\n",
    "print(\"R^2: \", r2_score(y_test, predicted))\n",
    "rf.feature_importances_"
   ]
  },
  {
   "cell_type": "code",
   "execution_count": 126,
   "metadata": {
    "collapsed": false
   },
   "outputs": [
    {
     "data": {
      "text/plain": [
       "<matplotlib.axes._subplots.AxesSubplot at 0xc4e1908>"
      ]
     },
     "execution_count": 126,
     "metadata": {},
     "output_type": "execute_result"
    },
    {
     "data": {
      "image/png": "[encoded data removed]",
      "text/plain": [
       "<matplotlib.figure.Figure at 0xd274278>"
      ]
     },
     "metadata": {},
     "output_type": "display_data"
    }
   ],
   "source": [
    "sns.distplot(predicted,axlabel=\"Predicted GPA\")"
   ]
  },
  {
   "cell_type": "code",
   "execution_count": 129,
   "metadata": {
    "collapsed": false,
    "scrolled": true
   },
   "outputs": [
    {
     "data": {
      "text/plain": [
       "<matplotlib.axes._subplots.AxesSubplot at 0xc41fc50>"
      ]
     },
     "execution_count": 129,
     "metadata": {},
     "output_type": "execute_result"
    },
    {
     "data": {
      "image/png": "[encoded data removed]",
      "text/plain": [
       "<matplotlib.figure.Figure at 0xc435ba8>"
      ]
     },
     "metadata": {},
     "output_type": "display_data"
    }
   ],
   "source": [
    "sns.distplot(y,axlabel=\"Actual GPA\")"
   ]
  },
  {
   "cell_type": "markdown",
   "metadata": {},
   "source": [
    "Looking at these distributions, it is clear that the shape of the prediction is much more 'normal' than the true distribution. Futher, the categorical nature of the GPA shines through in the true graph. With that in mind, I will now try using a random forest classifier rather than a regressor."
   ]
  },
  {
   "cell_type": "code",
   "execution_count": 130,
   "metadata": {
    "collapsed": false,
    "scrolled": true
   },
   "outputs": [
    {
     "data": {
      "text/plain": [
       "3.25    109\n",
       "3.00    102\n",
       "2.75    100\n",
       "3.50     88\n",
       "2.25     87\n",
       "2.50     79\n",
       "4.00     53\n",
       "2.00     47\n",
       "3.75     47\n",
       "1.75     37\n",
       "1.50     22\n",
       "1.25      5\n",
       "1.00      4\n",
       "Name: gpa, dtype: int64"
      ]
     },
     "execution_count": 130,
     "metadata": {},
     "output_type": "execute_result"
    }
   ],
   "source": [
    "y_train.value_counts()"
   ]
  },
  {
   "cell_type": "code",
   "execution_count": 131,
   "metadata": {
    "collapsed": true
   },
   "outputs": [],
   "source": [
    "y_trainer = y_train # This will turn the data into categorical with each gpa measure being represented by an integer\n",
    "for i in range(len(y_train)):\n",
    "    if y_train.iloc[i] == 1.00:\n",
    "        y_trainer.iloc[i] = 0\n",
    "    elif y_train.iloc[i] == 1.25:\n",
    "        y_trainer.iloc[i] = 1\n",
    "    elif y_train.iloc[i] == 1.50:\n",
    "        y_trainer.iloc[i] = 2\n",
    "    elif y_train.iloc[i] == 1.75:\n",
    "        y_trainer.iloc[i] = 3\n",
    "    elif y_train.iloc[i] == 2.00:\n",
    "        y_trainer.iloc[i] = 4\n",
    "    elif y_train.iloc[i] == 2.25:\n",
    "        y_trainer.iloc[i] = 5\n",
    "    elif y_train.iloc[i] == 2.50:\n",
    "        y_trainer.iloc[i] = 6\n",
    "    elif y_train.iloc[i] == 2.75:\n",
    "        y_trainer.iloc[i] = 7\n",
    "    elif y_train.iloc[i] == 3.00:\n",
    "        y_trainer.iloc[i] = 8\n",
    "    elif y_train.iloc[i] == 3.25:\n",
    "        y_trainer.iloc[i] = 9\n",
    "    elif y_train.iloc[i] == 3.5:\n",
    "        y_trainer.iloc[i] = 10\n",
    "    elif y_train.iloc[i] == 3.75:\n",
    "        y_trainer.iloc[i] = 11\n",
    "    elif y_train.iloc[i] == 4.00:\n",
    "        y_trainer.iloc[i] = 12"
   ]
  },
  {
   "cell_type": "code",
   "execution_count": 132,
   "metadata": {
    "collapsed": true
   },
   "outputs": [],
   "source": [
    "y_tester = y_test # again for the other part of the data set\n",
    "for i in range(len(y_test)):\n",
    "    if y_test.iloc[i] == 1.00:\n",
    "        y_tester.iloc[i] = 0\n",
    "    elif y_test.iloc[i] == 1.25:\n",
    "        y_tester.iloc[i] = 1\n",
    "    elif y_test.iloc[i] == 1.50:\n",
    "        y_tester.iloc[i] = 2\n",
    "    elif y_test.iloc[i] == 1.75:\n",
    "        y_tester.iloc[i] = 3\n",
    "    elif y_test.iloc[i] == 2.00:\n",
    "        y_tester.iloc[i] = 4\n",
    "    elif y_test.iloc[i] == 2.25:\n",
    "        y_tester.iloc[i] = 5\n",
    "    elif y_test.iloc[i] == 2.50:\n",
    "        y_tester.iloc[i] = 6\n",
    "    elif y_test.iloc[i] == 2.75:\n",
    "        y_tester.iloc[i] = 7\n",
    "    elif y_test.iloc[i] == 3.00:\n",
    "        y_tester.iloc[i] = 8\n",
    "    elif y_test.iloc[i] == 3.25:\n",
    "        y_tester.iloc[i] = 9\n",
    "    elif y_test.iloc[i] == 3.5:\n",
    "        y_tester.iloc[i] = 10\n",
    "    elif y_test.iloc[i] == 3.75:\n",
    "        y_tester.iloc[i] = 11\n",
    "    elif y_test.iloc[i] == 4.00:\n",
    "        y_tester.iloc[i] = 12\n"
   ]
  },
  {
   "cell_type": "code",
   "execution_count": 133,
   "metadata": {
    "collapsed": false
   },
   "outputs": [
    {
     "data": {
      "text/plain": [
       "818      8.0\n",
       "1367     9.0\n",
       "1059    10.0\n",
       "196     11.0\n",
       "1254     5.0\n",
       "Name: gpa, dtype: float64"
      ]
     },
     "execution_count": 133,
     "metadata": {},
     "output_type": "execute_result"
    }
   ],
   "source": [
    "y_trainer.head() # looks like it worked"
   ]
  },
  {
   "cell_type": "code",
   "execution_count": 134,
   "metadata": {
    "collapsed": false,
    "scrolled": true
   },
   "outputs": [
    {
     "name": "stdout",
     "output_type": "stream",
     "text": [
      "17.824099874\n"
     ]
    },
    {
     "data": {
      "text/plain": [
       "0.12987012987012986"
      ]
     },
     "execution_count": 134,
     "metadata": {},
     "output_type": "execute_result"
    }
   ],
   "source": [
    "RF = RandomForestClassifier() #train the new classifier on the modified data\n",
    "RF.fit(X_train, y_trainer) #note that it is on 'trainer' and 'tester'\n",
    "RF_probs = RF.predict_proba(X_test)\n",
    "logloss = log_loss(y_tester, RF_probs)\n",
    "print(logloss)\n",
    "RF.score(X_test, y_tester)"
   ]
  },
  {
   "cell_type": "code",
   "execution_count": 135,
   "metadata": {
    "collapsed": false
   },
   "outputs": [
    {
     "name": "stdout",
     "output_type": "stream",
     "text": [
      "['cm1ethrace', 'cf1ethrace', 'cm1edu', 'cf1edu', 'cm5povco', 'cm1relf', 'cm1age']\n",
      "[ 0.06670362  0.0676224   0.07427068  0.08486935  0.34783001  0.1149355\n",
      "  0.24376844]\n"
     ]
    }
   ],
   "source": [
    "print(['cm1ethrace', 'cf1ethrace', 'cm1edu', 'cf1edu', 'cm5povco', 'cm1relf','cm1age'])\n",
    "print(RF.feature_importances_)"
   ]
  },
  {
   "cell_type": "code",
   "execution_count": 136,
   "metadata": {
    "collapsed": false
   },
   "outputs": [
    {
     "data": {
      "text/plain": [
       "<matplotlib.axes._subplots.AxesSubplot at 0xc337d30>"
      ]
     },
     "execution_count": 136,
     "metadata": {},
     "output_type": "execute_result"
    },
    {
     "data": {
      "image/png": "[encoded data removed]",
      "text/plain": [
       "<matplotlib.figure.Figure at 0xe27de80>"
      ]
     },
     "metadata": {},
     "output_type": "display_data"
    }
   ],
   "source": [
    "sns.regplot(y=y, x=RF.predict(small_X), fit_reg = True)"
   ]
  },
  {
   "cell_type": "code",
   "execution_count": 137,
   "metadata": {
    "collapsed": false
   },
   "outputs": [
    {
     "data": {
      "text/plain": [
       "812"
      ]
     },
     "execution_count": 137,
     "metadata": {},
     "output_type": "execute_result"
    }
   ],
   "source": [
    "x = RF.predict(small_X) #this is getting the count of how many dots are truly on the diagonal of the graph\n",
    "x = x*.25 + 1\n",
    "count = 0\n",
    "l = len(x)\n",
    "for i in range(len(x)):\n",
    "    if x[i] == y.iloc[i]:\n",
    "        count = count + 1\n",
    "count"
   ]
  },
  {
   "cell_type": "code",
   "execution_count": 68,
   "metadata": {
    "collapsed": false
   },
   "outputs": [
    {
     "data": {
      "text/plain": [
       "1165"
      ]
     },
     "execution_count": 68,
     "metadata": {},
     "output_type": "execute_result"
    }
   ],
   "source": [
    "len(x) "
   ]
  },
  {
   "cell_type": "markdown",
   "metadata": {},
   "source": [
    "Interestingly, even though the R^2 is quite low, the model did predict 70% of the GPA's correctly. That's actually much better than it seemed initially."
   ]
  },
  {
   "cell_type": "code",
   "execution_count": 138,
   "metadata": {
    "collapsed": false
   },
   "outputs": [
    {
     "data": {
      "text/plain": [
       "6"
      ]
     },
     "execution_count": 138,
     "metadata": {},
     "output_type": "execute_result"
    }
   ],
   "source": [
    "x = rf.predict(small_X)\n",
    "count = 0\n",
    "l = len(x)\n",
    "for i in range(len(x)):\n",
    "    if x[i] == y.iloc[i]:\n",
    "        count = count + 1\n",
    "count"
   ]
  },
  {
   "cell_type": "code",
   "execution_count": 139,
   "metadata": {
    "collapsed": false
   },
   "outputs": [
    {
     "data": {
      "text/plain": [
       "352"
      ]
     },
     "execution_count": 139,
     "metadata": {},
     "output_type": "execute_result"
    }
   ],
   "source": [
    "x = rf.predict(small_X)\n",
    "count = 0\n",
    "l = len(x)\n",
    "for i in range(len(x)):\n",
    "    if y.iloc[i]-.125 <= x[i] <= y.iloc[i]+.125: #giving it some wiggle room since the model could give more decimal places\n",
    "        count = count + 1\n",
    "count"
   ]
  },
  {
   "cell_type": "markdown",
   "metadata": {},
   "source": [
    "Comparatively, the regressor version only predicted 1% correctly - although the nature of the regression makes it harder to match exactly. When I give it a .25 confidence interval, the percentage increases to about 30%. Still, it seems thinking of GPA as a categorical feature is actually more accurate."
   ]
  },
  {
   "cell_type": "markdown",
   "metadata": {},
   "source": [
    "## Job Training"
   ]
  },
  {
   "cell_type": "code",
   "execution_count": 94,
   "metadata": {
    "collapsed": true
   },
   "outputs": [],
   "source": [
    "X_train, X_test, y_train, y_test, small_X, y = pred_prep('jobTraining', joined_df) # moving on to the next prediction"
   ]
  },
  {
   "cell_type": "code",
   "execution_count": 95,
   "metadata": {
    "collapsed": false
   },
   "outputs": [
    {
     "name": "stdout",
     "output_type": "stream",
     "text": [
      "1.67233046725\n"
     ]
    },
    {
     "data": {
      "text/plain": [
       "0.72463768115942029"
      ]
     },
     "execution_count": 95,
     "metadata": {},
     "output_type": "execute_result"
    }
   ],
   "source": [
    "RF = RandomForestClassifier()\n",
    "RF.fit(X_train, y_train)\n",
    "RF_probs = RF.predict_proba(X_test)\n",
    "logloss = log_loss(y_test, RF_probs)\n",
    "print(logloss)\n",
    "RF.score(X_test, y_test)"
   ]
  },
  {
   "cell_type": "code",
   "execution_count": 97,
   "metadata": {
    "collapsed": false
   },
   "outputs": [
    {
     "name": "stdout",
     "output_type": "stream",
     "text": [
      "Tuned Random Forest Parameters: {'n_estimators': 2}\n",
      "Best score is 0.7378507871321013\n"
     ]
    }
   ],
   "source": [
    "# Setup the hyperparameter grid\n",
    "n_est = np.linspace(1,25,25).astype(int)\n",
    "param_grid = {'n_estimators': n_est}\n",
    "# Instantiate a logistic regression classifier: logreg\n",
    "RF = RandomForestClassifier()\n",
    "\n",
    "# Instantiate the GridSearchCV object: logreg_cv\n",
    "RF_cv = GridSearchCV(RF, param_grid, cv=5)\n",
    "\n",
    "# Fit it to the data\n",
    "RF_cv.fit(small_X,y)\n",
    "\n",
    "# Print the tuned parameters and score\n",
    "print(\"Tuned Random Forest Parameters: {}\".format(RF_cv.best_params_)) \n",
    "print(\"Best score is {}\".format(RF_cv.best_score_))"
   ]
  },
  {
   "cell_type": "code",
   "execution_count": 100,
   "metadata": {
    "collapsed": false
   },
   "outputs": [
    {
     "name": "stdout",
     "output_type": "stream",
     "text": [
      "['challengeID', 'cm1ethrace', 'cf1ethrace', 'cm1edu', 'cf1edu', 'cm5povco', 'cm1relf', 'cm1age']\n",
      "[ 0.04151603  0.07019121  0.07510962  0.09393997  0.35952766  0.10225622\n",
      "  0.2574593 ]\n",
      "0.718426501035\n"
     ]
    }
   ],
   "source": [
    "clf = RandomForestClassifier(n_estimators = 2)\n",
    "clf.fit(X_train, y_train)\n",
    "clf_probs = clf.predict_proba(X_test)\n",
    "print(columns)\n",
    "print(clf.feature_importances_)\n",
    "print(clf.score(X_test, y_test))\n"
   ]
  },
  {
   "cell_type": "markdown",
   "metadata": {},
   "source": [
    "We were able to get 72% accuracy here with the random forest classifier. It appears that the poverty measure and age of the mother were the most significant predictors. "
   ]
  },
  {
   "cell_type": "code",
   "execution_count": 102,
   "metadata": {
    "collapsed": false
   },
   "outputs": [
    {
     "data": {
      "text/plain": [
       "0.0    1118\n",
       "1.0     343\n",
       "Name: jobTraining, dtype: int64"
      ]
     },
     "execution_count": 102,
     "metadata": {},
     "output_type": "execute_result"
    }
   ],
   "source": [
    "y.value_counts()"
   ]
  },
  {
   "cell_type": "code",
   "execution_count": 104,
   "metadata": {
    "collapsed": false
   },
   "outputs": [
    {
     "name": "stdout",
     "output_type": "stream",
     "text": [
      "[[333  39]\n",
      " [ 97  14]]\n",
      "             precision    recall  f1-score   support\n",
      "\n",
      "        0.0       0.77      0.90      0.83       372\n",
      "        1.0       0.26      0.13      0.17       111\n",
      "\n",
      "avg / total       0.66      0.72      0.68       483\n",
      "\n"
     ]
    }
   ],
   "source": [
    "x = clf.predict(X_test)\n",
    "print(confusion_matrix(y_test, x))\n",
    "print(classification_report(y_test, x))"
   ]
  },
  {
   "cell_type": "markdown",
   "metadata": {},
   "source": [
    "Of course, as often seems to be the case when the number of negatives vastly outnumbers the number of positives, the model tends to learn toward predicting negatives, but there were still 72% of the predictions done correctly."
   ]
  },
  {
   "cell_type": "markdown",
   "metadata": {},
   "source": [
    "## Conclusion\n",
    "These features do seem to give fairly decent prediction, and I'm sure with some optimization we could get the percentages up a bit, but this is likely near the limit of what these features can do. With that in mind, the next steps would be to try and include more features. These will likely need to be imputed as many of the other features contain a lot of missing data. But, with more features, there is a chance for the models to find better combinations of features to improve the predictive power."
   ]
  }
 ],
 "metadata": {
  "kernelspec": {
   "display_name": "Python 3",
   "language": "python",
   "name": "python3"
  },
  "language_info": {
   "codemirror_mode": {
    "name": "ipython",
    "version": 3
   },
   "file_extension": ".py",
   "mimetype": "text/x-python",
   "name": "python",
   "nbconvert_exporter": "python",
   "pygments_lexer": "ipython3",
   "version": "3.6.0"
  }
 },
 "nbformat": 4,
 "nbformat_minor": 2
}
